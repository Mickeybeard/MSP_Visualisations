{
 "cells": [
  {
   "cell_type": "code",
   "execution_count": 58,
   "id": "32f788d4",
   "metadata": {},
   "outputs": [
    {
     "data": {
      "application/vnd.plotly.v1+json": {
       "config": {
        "plotlyServerURL": "https://plot.ly"
       },
       "data": [
        {
         "coloraxis": "coloraxis",
         "hovertemplate": "x: %{x}<br>y: %{y}<br>color: %{z}<extra></extra>",
         "name": "0",
         "text": [
          [
           "Unknown",
           "Unknown",
           "Unknown",
           "Unknown",
           "Unknown",
           "Unknown",
           "Unknown",
           "Unknown",
           "Unknown",
           "Unknown",
           "Unknown",
           "Unknown",
           "Unknown",
           "Unknown",
           "Unknown",
           "Unknown",
           "Unknown",
           "Unknown",
           "Unknown",
           "GES Not Achieved",
           "Unknown",
           "Unknown",
           "Unknown",
           "Unknown",
           "GES Not Achieved",
           "Unknown",
           "Unknown",
           "Unknown",
           "Unknown",
           "Unknown",
           "Unknown",
           "Unknown",
           "Unknown",
           "GES Not Achieved",
           "GES Not Achieved",
           "Unknown",
           "Unknown",
           "GES Achieved",
           "Unknown",
           "Unknown",
           "Unknown",
           "Unknown",
           "Unknown",
           "Unknown",
           "Unknown",
           "Unknown",
           "Unknown",
           "Unknown",
           "Unknown",
           "Unknown",
           "Unknown",
           "Unknown",
           "GES Achieved",
           "Unknown",
           "GES Achieved",
           "Unknown"
          ],
          [
           "GES Not Achieved",
           "Unknown",
           "GES Not Achieved",
           "Unknown",
           "GES Not Achieved",
           "GES Not Achieved",
           "Unknown",
           "Unknown",
           "Unknown",
           "Unknown",
           "GES Not Achieved",
           "GES Achieved",
           "GES Not Achieved",
           "GES Achieved",
           "GES Not Achieved",
           "GES Achieved",
           "Unknown",
           "GES Not Achieved",
           "GES Achieved",
           "GES Not Achieved",
           "Unknown",
           "GES Achieved",
           "GES Achieved",
           "GES Achieved",
           "GES Not Achieved",
           "Unknown",
           "GES Achieved",
           "Unknown",
           "GES Not Achieved",
           "GES Not Achieved",
           "Unknown",
           "GES Not Achieved",
           "GES Not Achieved",
           "GES Not Achieved",
           "GES Not Achieved",
           "Unknown",
           "Unknown",
           "GES Achieved",
           "GES Achieved",
           "Unknown",
           "Unknown",
           "Unknown",
           "GES Not Achieved",
           "Unknown",
           "Unknown",
           "GES Not Achieved",
           "Unknown",
           "Unknown",
           "GES Not Achieved",
           "GES Not Achieved",
           "GES Achieved",
           "Unknown",
           "GES Not Achieved",
           "GES Not Achieved",
           "Unknown",
           "Unknown"
          ],
          [
           " ",
           " ",
           "GES Not Achieved",
           " ",
           " ",
           " ",
           " ",
           " ",
           " ",
           " ",
           " ",
           " ",
           " ",
           " ",
           " ",
           " ",
           " ",
           " ",
           " ",
           " ",
           " ",
           " ",
           " ",
           " ",
           " ",
           " ",
           " ",
           " ",
           " ",
           " ",
           " ",
           " ",
           " ",
           " ",
           " ",
           "Unknown",
           " ",
           " ",
           " ",
           " ",
           " ",
           " ",
           "GES Achieved",
           " ",
           " ",
           " ",
           " ",
           " ",
           " ",
           "GES Achieved",
           " ",
           " ",
           " ",
           " ",
           " ",
           " "
          ],
          [
           " ",
           " ",
           "GES Not Achieved",
           " ",
           " ",
           " ",
           " ",
           " ",
           " ",
           " ",
           " ",
           " ",
           " ",
           " ",
           " ",
           " ",
           " ",
           " ",
           " ",
           " ",
           " ",
           " ",
           " ",
           " ",
           " ",
           " ",
           " ",
           " ",
           " ",
           " ",
           " ",
           " ",
           " ",
           " ",
           " ",
           "GES Achieved",
           " ",
           " ",
           " ",
           " ",
           " ",
           " ",
           "GES Not Achieved",
           " ",
           " ",
           " ",
           " ",
           " ",
           " ",
           "GES Achieved",
           " ",
           " ",
           " ",
           " ",
           " ",
           " "
          ],
          [
           "GES Not Achieved",
           "Unknown",
           "GES Not Achieved",
           "Unknown",
           "GES Not Achieved",
           "GES Not Achieved",
           "Unknown",
           "Unknown",
           "Unknown",
           "Unknown",
           "GES Not Achieved",
           "GES Achieved",
           "GES Not Achieved",
           "GES Achieved",
           "GES Not Achieved",
           "GES Achieved",
           "Unknown",
           "GES Not Achieved",
           "GES Achieved",
           "Endangered with extinction, ineligible for GES",
           "Unknown",
           "GES Achieved",
           "GES Achieved",
           "GES Achieved",
           "GES Not Achieved",
           "Unknown",
           "GES Achieved",
           "Unknown",
           "GES Not Achieved",
           "GES Not Achieved",
           "Unknown",
           "GES Not Achieved",
           "GES Not Achieved",
           "GES Not Achieved",
           "Endangered with extinction, ineligible for GES",
           "GES Achieved",
           "Unknown",
           "GES Achieved",
           "GES Achieved",
           "Unknown",
           "Unknown",
           "Unknown",
           "GES Not Achieved",
           "Unknown",
           "Unknown",
           "GES Not Achieved",
           "Unknown",
           "Unknown",
           "Endangered with extinction, ineligible for GES",
           "GES Not Achieved",
           "GES Achieved",
           "Unknown",
           "GES Not Achieved",
           "Endangered with extinction, ineligible for GES",
           "Unknown",
           "Unknown"
          ]
         ],
         "texttemplate": "%{text}",
         "type": "heatmap",
         "x": [
          "Baird's smoothhead ",
          "Common thresher shark",
          "Twaite shad ",
          "Wolffish  ",
          "European eel ",
          "Antimora  ",
          "Black scabbardfish",
          "Deep sea catcharks ",
          "Red bream",
          "Cataetyx laticeps",
          "Leafscale gulper shark",
          "Black dogfish ",
          "Portuguese dogfish ",
          "Longnose velvet dogfish",
          "Basking shark ",
          "Rabbitfish  ",
          "Roundnose grenadier ",
          "Kitefin shark ",
          "Birdbeak dogfish ",
          "Common skate complex",
          "Norwegian skate ",
          "Bigeye  ",
          "Deepwater lanternshark ",
          "Velvetbelly lanternshark ",
          "Cod",
          "Tope shark ",
          "Blackmouth catshark ",
          "Mouse catshark ",
          "Blackbelly rosefish ",
          "Six-gill shark ",
          "Halibut  ",
          "Orange roughy ",
          "Large-eyed rabbitfish ",
          "Shortfin mako shark",
          "Porbeagle shark ",
          "River lamprey ",
          "Sandy ray ",
          "Blue ling ",
          "Mora  ",
          "Starry moothhound ",
          "Snub-nose spiny eel",
          "Sailfin roughshark ",
          "Sea lamprey ",
          "Thornback ray ",
          "Spotted ray ",
          "Undulate ray ",
          "Deepwater ray ",
          "Straightnose rabbitfish ",
          "White skate ",
          "Atlantic salmon ",
          "Turbot  ",
          "Knitefooth shark ",
          "Spurdog  ",
          "Angel shark ",
          "Bluefin tuna ",
          "Spiny scorpionfish "
         ],
         "xaxis": "x",
         "y": [
          "GES",
          "D1C5",
          "D1C4",
          "D1C2",
          "D1C1"
         ],
         "yaxis": "y",
         "z": [
          [
           0.5,
           0.3,
           0.5,
           0.3,
           0.5,
           0.5,
           0.3,
           0.3,
           0.3,
           0.3,
           0.5,
           1,
           0.5,
           1,
           0.5,
           1,
           0.3,
           0.5,
           1,
           0.1,
           0.3,
           1,
           1,
           1,
           0.5,
           0.3,
           1,
           0.3,
           0.5,
           0.5,
           0.3,
           0.5,
           0.5,
           0.5,
           0.1,
           1,
           0.3,
           1,
           1,
           0.3,
           0.3,
           0.3,
           0.5,
           0.3,
           0.3,
           0.5,
           0.3,
           0.3,
           0.1,
           0.5,
           1,
           0.3,
           0.5,
           0.1,
           0.3,
           0.3
          ],
          [
           0,
           0,
           0.5,
           0,
           0,
           0,
           0,
           0,
           0,
           0,
           0,
           0,
           0,
           0,
           0,
           0,
           0,
           0,
           0,
           0,
           0,
           0,
           0,
           0,
           0,
           0,
           0,
           0,
           0,
           0,
           0,
           0,
           0,
           0,
           0,
           1,
           0,
           0,
           0,
           0,
           0,
           0,
           0.5,
           0,
           0,
           0,
           0,
           0,
           0,
           1,
           0,
           0,
           0,
           0,
           0,
           0
          ],
          [
           0,
           0,
           0.5,
           0,
           0,
           0,
           0,
           0,
           0,
           0,
           0,
           0,
           0,
           0,
           0,
           0,
           0,
           0,
           0,
           0,
           0,
           0,
           0,
           0,
           0,
           0,
           0,
           0,
           0,
           0,
           0,
           0,
           0,
           0,
           0,
           0.3,
           0,
           0,
           0,
           0,
           0,
           0,
           1,
           0,
           0,
           0,
           0,
           0,
           0,
           1,
           0,
           0,
           0,
           0,
           0,
           0
          ],
          [
           0.5,
           0.3,
           0.5,
           0.3,
           0.5,
           0.5,
           0.3,
           0.3,
           0.3,
           0.3,
           0.5,
           1,
           0.5,
           1,
           0.5,
           1,
           0.3,
           0.5,
           1,
           0.5,
           0.3,
           1,
           1,
           1,
           0.5,
           0.3,
           1,
           0.3,
           0.5,
           0.5,
           0.3,
           0.5,
           0.5,
           0.5,
           0.5,
           0.3,
           0.3,
           1,
           1,
           0.3,
           0.3,
           0.3,
           0.5,
           0.3,
           0.3,
           0.5,
           0.3,
           0.3,
           0.5,
           0.5,
           1,
           0.3,
           0.5,
           0.5,
           0.3,
           0.3
          ],
          [
           0.3,
           0.3,
           0.3,
           0.3,
           0.3,
           0.3,
           0.3,
           0.3,
           0.3,
           0.3,
           0.3,
           0.3,
           0.3,
           0.3,
           0.3,
           0.3,
           0.3,
           0.3,
           0.3,
           0.5,
           0.3,
           0.3,
           0.3,
           0.3,
           0.5,
           0.3,
           0.3,
           0.3,
           0.3,
           0.3,
           0.3,
           0.3,
           0.3,
           0.5,
           0.5,
           0.3,
           0.3,
           1,
           0.3,
           0.3,
           0.3,
           0.3,
           0.3,
           0.3,
           0.3,
           0.3,
           0.3,
           0.3,
           0.3,
           0.3,
           0.3,
           0.3,
           1,
           0.3,
           1,
           0.3
          ]
         ]
        }
       ],
       "layout": {
        "coloraxis": {
         "colorscale": [
          [
           0,
           "#ffffff"
          ],
          [
           0.1,
           "#F0A622"
          ],
          [
           0.3,
           "#f2f2f2"
          ],
          [
           0.5,
           "#e34732"
          ],
          [
           1,
           "#31F08E"
          ]
         ],
         "showscale": false
        },
        "hovermode": "x unified",
        "template": {
         "data": {
          "bar": [
           {
            "error_x": {
             "color": "#2a3f5f"
            },
            "error_y": {
             "color": "#2a3f5f"
            },
            "marker": {
             "line": {
              "color": "#E5ECF6",
              "width": 0.5
             },
             "pattern": {
              "fillmode": "overlay",
              "size": 10,
              "solidity": 0.2
             }
            },
            "type": "bar"
           }
          ],
          "barpolar": [
           {
            "marker": {
             "line": {
              "color": "#E5ECF6",
              "width": 0.5
             },
             "pattern": {
              "fillmode": "overlay",
              "size": 10,
              "solidity": 0.2
             }
            },
            "type": "barpolar"
           }
          ],
          "carpet": [
           {
            "aaxis": {
             "endlinecolor": "#2a3f5f",
             "gridcolor": "white",
             "linecolor": "white",
             "minorgridcolor": "white",
             "startlinecolor": "#2a3f5f"
            },
            "baxis": {
             "endlinecolor": "#2a3f5f",
             "gridcolor": "white",
             "linecolor": "white",
             "minorgridcolor": "white",
             "startlinecolor": "#2a3f5f"
            },
            "type": "carpet"
           }
          ],
          "choropleth": [
           {
            "colorbar": {
             "outlinewidth": 0,
             "ticks": ""
            },
            "type": "choropleth"
           }
          ],
          "contour": [
           {
            "colorbar": {
             "outlinewidth": 0,
             "ticks": ""
            },
            "colorscale": [
             [
              0,
              "#0d0887"
             ],
             [
              0.1111111111111111,
              "#46039f"
             ],
             [
              0.2222222222222222,
              "#7201a8"
             ],
             [
              0.3333333333333333,
              "#9c179e"
             ],
             [
              0.4444444444444444,
              "#bd3786"
             ],
             [
              0.5555555555555556,
              "#d8576b"
             ],
             [
              0.6666666666666666,
              "#ed7953"
             ],
             [
              0.7777777777777778,
              "#fb9f3a"
             ],
             [
              0.8888888888888888,
              "#fdca26"
             ],
             [
              1,
              "#f0f921"
             ]
            ],
            "type": "contour"
           }
          ],
          "contourcarpet": [
           {
            "colorbar": {
             "outlinewidth": 0,
             "ticks": ""
            },
            "type": "contourcarpet"
           }
          ],
          "heatmap": [
           {
            "colorbar": {
             "outlinewidth": 0,
             "ticks": ""
            },
            "colorscale": [
             [
              0,
              "#0d0887"
             ],
             [
              0.1111111111111111,
              "#46039f"
             ],
             [
              0.2222222222222222,
              "#7201a8"
             ],
             [
              0.3333333333333333,
              "#9c179e"
             ],
             [
              0.4444444444444444,
              "#bd3786"
             ],
             [
              0.5555555555555556,
              "#d8576b"
             ],
             [
              0.6666666666666666,
              "#ed7953"
             ],
             [
              0.7777777777777778,
              "#fb9f3a"
             ],
             [
              0.8888888888888888,
              "#fdca26"
             ],
             [
              1,
              "#f0f921"
             ]
            ],
            "type": "heatmap"
           }
          ],
          "heatmapgl": [
           {
            "colorbar": {
             "outlinewidth": 0,
             "ticks": ""
            },
            "colorscale": [
             [
              0,
              "#0d0887"
             ],
             [
              0.1111111111111111,
              "#46039f"
             ],
             [
              0.2222222222222222,
              "#7201a8"
             ],
             [
              0.3333333333333333,
              "#9c179e"
             ],
             [
              0.4444444444444444,
              "#bd3786"
             ],
             [
              0.5555555555555556,
              "#d8576b"
             ],
             [
              0.6666666666666666,
              "#ed7953"
             ],
             [
              0.7777777777777778,
              "#fb9f3a"
             ],
             [
              0.8888888888888888,
              "#fdca26"
             ],
             [
              1,
              "#f0f921"
             ]
            ],
            "type": "heatmapgl"
           }
          ],
          "histogram": [
           {
            "marker": {
             "pattern": {
              "fillmode": "overlay",
              "size": 10,
              "solidity": 0.2
             }
            },
            "type": "histogram"
           }
          ],
          "histogram2d": [
           {
            "colorbar": {
             "outlinewidth": 0,
             "ticks": ""
            },
            "colorscale": [
             [
              0,
              "#0d0887"
             ],
             [
              0.1111111111111111,
              "#46039f"
             ],
             [
              0.2222222222222222,
              "#7201a8"
             ],
             [
              0.3333333333333333,
              "#9c179e"
             ],
             [
              0.4444444444444444,
              "#bd3786"
             ],
             [
              0.5555555555555556,
              "#d8576b"
             ],
             [
              0.6666666666666666,
              "#ed7953"
             ],
             [
              0.7777777777777778,
              "#fb9f3a"
             ],
             [
              0.8888888888888888,
              "#fdca26"
             ],
             [
              1,
              "#f0f921"
             ]
            ],
            "type": "histogram2d"
           }
          ],
          "histogram2dcontour": [
           {
            "colorbar": {
             "outlinewidth": 0,
             "ticks": ""
            },
            "colorscale": [
             [
              0,
              "#0d0887"
             ],
             [
              0.1111111111111111,
              "#46039f"
             ],
             [
              0.2222222222222222,
              "#7201a8"
             ],
             [
              0.3333333333333333,
              "#9c179e"
             ],
             [
              0.4444444444444444,
              "#bd3786"
             ],
             [
              0.5555555555555556,
              "#d8576b"
             ],
             [
              0.6666666666666666,
              "#ed7953"
             ],
             [
              0.7777777777777778,
              "#fb9f3a"
             ],
             [
              0.8888888888888888,
              "#fdca26"
             ],
             [
              1,
              "#f0f921"
             ]
            ],
            "type": "histogram2dcontour"
           }
          ],
          "mesh3d": [
           {
            "colorbar": {
             "outlinewidth": 0,
             "ticks": ""
            },
            "type": "mesh3d"
           }
          ],
          "parcoords": [
           {
            "line": {
             "colorbar": {
              "outlinewidth": 0,
              "ticks": ""
             }
            },
            "type": "parcoords"
           }
          ],
          "pie": [
           {
            "automargin": true,
            "type": "pie"
           }
          ],
          "scatter": [
           {
            "marker": {
             "colorbar": {
              "outlinewidth": 0,
              "ticks": ""
             }
            },
            "type": "scatter"
           }
          ],
          "scatter3d": [
           {
            "line": {
             "colorbar": {
              "outlinewidth": 0,
              "ticks": ""
             }
            },
            "marker": {
             "colorbar": {
              "outlinewidth": 0,
              "ticks": ""
             }
            },
            "type": "scatter3d"
           }
          ],
          "scattercarpet": [
           {
            "marker": {
             "colorbar": {
              "outlinewidth": 0,
              "ticks": ""
             }
            },
            "type": "scattercarpet"
           }
          ],
          "scattergeo": [
           {
            "marker": {
             "colorbar": {
              "outlinewidth": 0,
              "ticks": ""
             }
            },
            "type": "scattergeo"
           }
          ],
          "scattergl": [
           {
            "marker": {
             "colorbar": {
              "outlinewidth": 0,
              "ticks": ""
             }
            },
            "type": "scattergl"
           }
          ],
          "scattermapbox": [
           {
            "marker": {
             "colorbar": {
              "outlinewidth": 0,
              "ticks": ""
             }
            },
            "type": "scattermapbox"
           }
          ],
          "scatterpolar": [
           {
            "marker": {
             "colorbar": {
              "outlinewidth": 0,
              "ticks": ""
             }
            },
            "type": "scatterpolar"
           }
          ],
          "scatterpolargl": [
           {
            "marker": {
             "colorbar": {
              "outlinewidth": 0,
              "ticks": ""
             }
            },
            "type": "scatterpolargl"
           }
          ],
          "scatterternary": [
           {
            "marker": {
             "colorbar": {
              "outlinewidth": 0,
              "ticks": ""
             }
            },
            "type": "scatterternary"
           }
          ],
          "surface": [
           {
            "colorbar": {
             "outlinewidth": 0,
             "ticks": ""
            },
            "colorscale": [
             [
              0,
              "#0d0887"
             ],
             [
              0.1111111111111111,
              "#46039f"
             ],
             [
              0.2222222222222222,
              "#7201a8"
             ],
             [
              0.3333333333333333,
              "#9c179e"
             ],
             [
              0.4444444444444444,
              "#bd3786"
             ],
             [
              0.5555555555555556,
              "#d8576b"
             ],
             [
              0.6666666666666666,
              "#ed7953"
             ],
             [
              0.7777777777777778,
              "#fb9f3a"
             ],
             [
              0.8888888888888888,
              "#fdca26"
             ],
             [
              1,
              "#f0f921"
             ]
            ],
            "type": "surface"
           }
          ],
          "table": [
           {
            "cells": {
             "fill": {
              "color": "#EBF0F8"
             },
             "line": {
              "color": "white"
             }
            },
            "header": {
             "fill": {
              "color": "#C8D4E3"
             },
             "line": {
              "color": "white"
             }
            },
            "type": "table"
           }
          ]
         },
         "layout": {
          "annotationdefaults": {
           "arrowcolor": "#2a3f5f",
           "arrowhead": 0,
           "arrowwidth": 1
          },
          "autotypenumbers": "strict",
          "coloraxis": {
           "colorbar": {
            "outlinewidth": 0,
            "ticks": ""
           }
          },
          "colorscale": {
           "diverging": [
            [
             0,
             "#8e0152"
            ],
            [
             0.1,
             "#c51b7d"
            ],
            [
             0.2,
             "#de77ae"
            ],
            [
             0.3,
             "#f1b6da"
            ],
            [
             0.4,
             "#fde0ef"
            ],
            [
             0.5,
             "#f7f7f7"
            ],
            [
             0.6,
             "#e6f5d0"
            ],
            [
             0.7,
             "#b8e186"
            ],
            [
             0.8,
             "#7fbc41"
            ],
            [
             0.9,
             "#4d9221"
            ],
            [
             1,
             "#276419"
            ]
           ],
           "sequential": [
            [
             0,
             "#0d0887"
            ],
            [
             0.1111111111111111,
             "#46039f"
            ],
            [
             0.2222222222222222,
             "#7201a8"
            ],
            [
             0.3333333333333333,
             "#9c179e"
            ],
            [
             0.4444444444444444,
             "#bd3786"
            ],
            [
             0.5555555555555556,
             "#d8576b"
            ],
            [
             0.6666666666666666,
             "#ed7953"
            ],
            [
             0.7777777777777778,
             "#fb9f3a"
            ],
            [
             0.8888888888888888,
             "#fdca26"
            ],
            [
             1,
             "#f0f921"
            ]
           ],
           "sequentialminus": [
            [
             0,
             "#0d0887"
            ],
            [
             0.1111111111111111,
             "#46039f"
            ],
            [
             0.2222222222222222,
             "#7201a8"
            ],
            [
             0.3333333333333333,
             "#9c179e"
            ],
            [
             0.4444444444444444,
             "#bd3786"
            ],
            [
             0.5555555555555556,
             "#d8576b"
            ],
            [
             0.6666666666666666,
             "#ed7953"
            ],
            [
             0.7777777777777778,
             "#fb9f3a"
            ],
            [
             0.8888888888888888,
             "#fdca26"
            ],
            [
             1,
             "#f0f921"
            ]
           ]
          },
          "colorway": [
           "#636efa",
           "#EF553B",
           "#00cc96",
           "#ab63fa",
           "#FFA15A",
           "#19d3f3",
           "#FF6692",
           "#B6E880",
           "#FF97FF",
           "#FECB52"
          ],
          "font": {
           "color": "#2a3f5f"
          },
          "geo": {
           "bgcolor": "white",
           "lakecolor": "white",
           "landcolor": "#E5ECF6",
           "showlakes": true,
           "showland": true,
           "subunitcolor": "white"
          },
          "hoverlabel": {
           "align": "left"
          },
          "hovermode": "closest",
          "mapbox": {
           "style": "light"
          },
          "paper_bgcolor": "white",
          "plot_bgcolor": "#E5ECF6",
          "polar": {
           "angularaxis": {
            "gridcolor": "white",
            "linecolor": "white",
            "ticks": ""
           },
           "bgcolor": "#E5ECF6",
           "radialaxis": {
            "gridcolor": "white",
            "linecolor": "white",
            "ticks": ""
           }
          },
          "scene": {
           "xaxis": {
            "backgroundcolor": "#E5ECF6",
            "gridcolor": "white",
            "gridwidth": 2,
            "linecolor": "white",
            "showbackground": true,
            "ticks": "",
            "zerolinecolor": "white"
           },
           "yaxis": {
            "backgroundcolor": "#E5ECF6",
            "gridcolor": "white",
            "gridwidth": 2,
            "linecolor": "white",
            "showbackground": true,
            "ticks": "",
            "zerolinecolor": "white"
           },
           "zaxis": {
            "backgroundcolor": "#E5ECF6",
            "gridcolor": "white",
            "gridwidth": 2,
            "linecolor": "white",
            "showbackground": true,
            "ticks": "",
            "zerolinecolor": "white"
           }
          },
          "shapedefaults": {
           "line": {
            "color": "#2a3f5f"
           }
          },
          "ternary": {
           "aaxis": {
            "gridcolor": "white",
            "linecolor": "white",
            "ticks": ""
           },
           "baxis": {
            "gridcolor": "white",
            "linecolor": "white",
            "ticks": ""
           },
           "bgcolor": "#E5ECF6",
           "caxis": {
            "gridcolor": "white",
            "linecolor": "white",
            "ticks": ""
           }
          },
          "title": {
           "x": 0.05
          },
          "xaxis": {
           "automargin": true,
           "gridcolor": "white",
           "linecolor": "white",
           "ticks": "",
           "title": {
            "standoff": 15
           },
           "zerolinecolor": "white",
           "zerolinewidth": 2
          },
          "yaxis": {
           "automargin": true,
           "gridcolor": "white",
           "linecolor": "white",
           "ticks": "",
           "title": {
            "standoff": 15
           },
           "zerolinecolor": "white",
           "zerolinewidth": 2
          }
         }
        },
        "title": {
         "text": "D1C1 GES status by Species"
        },
        "xaxis": {
         "anchor": "y",
         "constrain": "domain",
         "domain": [
          0,
          1
         ],
         "scaleanchor": "y",
         "side": "bottom"
        },
        "yaxis": {
         "anchor": "x",
         "autorange": "reversed",
         "constrain": "domain",
         "domain": [
          0,
          1
         ]
        }
       }
      },
      "text/html": [
       "<div>                            <div id=\"d430accf-2732-44fe-b7db-aad5cffb6cc9\" class=\"plotly-graph-div\" style=\"height:525px; width:100%;\"></div>            <script type=\"text/javascript\">                require([\"plotly\"], function(Plotly) {                    window.PLOTLYENV=window.PLOTLYENV || {};                                    if (document.getElementById(\"d430accf-2732-44fe-b7db-aad5cffb6cc9\")) {                    Plotly.newPlot(                        \"d430accf-2732-44fe-b7db-aad5cffb6cc9\",                        [{\"coloraxis\":\"coloraxis\",\"name\":\"0\",\"x\":[\"Baird's smoothhead \",\"Common thresher shark\",\"Twaite shad \",\"Wolffish\\u00a0 \",\"European eel \",\"Antimora\\u00a0 \",\"Black scabbardfish\",\"Deep sea catcharks \",\"Red bream\",\"Cataetyx laticeps\",\"Leafscale gulper shark\",\"Black dogfish \",\"Portuguese dogfish \",\"Longnose velvet dogfish\",\"Basking shark \",\"Rabbitfish\\u00a0 \",\"Roundnose grenadier \",\"Kitefin shark \",\"Birdbeak dogfish \",\"Common skate complex\",\"Norwegian skate \",\"Bigeye\\u00a0 \",\"Deepwater lanternshark \",\"Velvetbelly lanternshark \",\"Cod\",\"Tope shark \",\"Blackmouth catshark \",\"Mouse catshark \",\"Blackbelly rosefish \",\"Six-gill shark \",\"Halibut\\u00a0 \",\"Orange roughy \",\"Large-eyed rabbitfish \",\"Shortfin mako shark\",\"Porbeagle shark \",\"River lamprey \",\"Sandy ray \",\"Blue ling \",\"Mora\\u00a0 \",\"Starry moothhound \",\"Snub-nose spiny eel\",\"Sailfin roughshark \",\"Sea lamprey \",\"Thornback ray \",\"Spotted ray \",\"Undulate ray \",\"Deepwater ray \",\"Straightnose rabbitfish \",\"White skate \",\"Atlantic salmon \",\"Turbot\\u00a0 \",\"Knitefooth shark \",\"Spurdog\\u00a0 \",\"Angel shark \",\"Bluefin tuna \",\"Spiny scorpionfish \"],\"y\":[\"GES\",\"D1C5\",\"D1C4\",\"D1C2\",\"D1C1\"],\"z\":[[0.5,0.3,0.5,0.3,0.5,0.5,0.3,0.3,0.3,0.3,0.5,1.0,0.5,1.0,0.5,1.0,0.3,0.5,1.0,0.1,0.3,1.0,1.0,1.0,0.5,0.3,1.0,0.3,0.5,0.5,0.3,0.5,0.5,0.5,0.1,1.0,0.3,1.0,1.0,0.3,0.3,0.3,0.5,0.3,0.3,0.5,0.3,0.3,0.1,0.5,1.0,0.3,0.5,0.1,0.3,0.3],[0.0,0.0,0.5,0.0,0.0,0.0,0.0,0.0,0.0,0.0,0.0,0.0,0.0,0.0,0.0,0.0,0.0,0.0,0.0,0.0,0.0,0.0,0.0,0.0,0.0,0.0,0.0,0.0,0.0,0.0,0.0,0.0,0.0,0.0,0.0,1.0,0.0,0.0,0.0,0.0,0.0,0.0,0.5,0.0,0.0,0.0,0.0,0.0,0.0,1.0,0.0,0.0,0.0,0.0,0.0,0.0],[0.0,0.0,0.5,0.0,0.0,0.0,0.0,0.0,0.0,0.0,0.0,0.0,0.0,0.0,0.0,0.0,0.0,0.0,0.0,0.0,0.0,0.0,0.0,0.0,0.0,0.0,0.0,0.0,0.0,0.0,0.0,0.0,0.0,0.0,0.0,0.3,0.0,0.0,0.0,0.0,0.0,0.0,1.0,0.0,0.0,0.0,0.0,0.0,0.0,1.0,0.0,0.0,0.0,0.0,0.0,0.0],[0.5,0.3,0.5,0.3,0.5,0.5,0.3,0.3,0.3,0.3,0.5,1.0,0.5,1.0,0.5,1.0,0.3,0.5,1.0,0.5,0.3,1.0,1.0,1.0,0.5,0.3,1.0,0.3,0.5,0.5,0.3,0.5,0.5,0.5,0.5,0.3,0.3,1.0,1.0,0.3,0.3,0.3,0.5,0.3,0.3,0.5,0.3,0.3,0.5,0.5,1.0,0.3,0.5,0.5,0.3,0.3],[0.3,0.3,0.3,0.3,0.3,0.3,0.3,0.3,0.3,0.3,0.3,0.3,0.3,0.3,0.3,0.3,0.3,0.3,0.3,0.5,0.3,0.3,0.3,0.3,0.5,0.3,0.3,0.3,0.3,0.3,0.3,0.3,0.3,0.5,0.5,0.3,0.3,1.0,0.3,0.3,0.3,0.3,0.3,0.3,0.3,0.3,0.3,0.3,0.3,0.3,0.3,0.3,1.0,0.3,1.0,0.3]],\"type\":\"heatmap\",\"xaxis\":\"x\",\"yaxis\":\"y\",\"hovertemplate\":\"x: %{x}<br>y: %{y}<br>color: %{z}<extra></extra>\",\"text\":[[\"Unknown\",\"Unknown\",\"Unknown\",\"Unknown\",\"Unknown\",\"Unknown\",\"Unknown\",\"Unknown\",\"Unknown\",\"Unknown\",\"Unknown\",\"Unknown\",\"Unknown\",\"Unknown\",\"Unknown\",\"Unknown\",\"Unknown\",\"Unknown\",\"Unknown\",\"GES Not Achieved\",\"Unknown\",\"Unknown\",\"Unknown\",\"Unknown\",\"GES Not Achieved\",\"Unknown\",\"Unknown\",\"Unknown\",\"Unknown\",\"Unknown\",\"Unknown\",\"Unknown\",\"Unknown\",\"GES Not Achieved\",\"GES Not Achieved\",\"Unknown\",\"Unknown\",\"GES Achieved\",\"Unknown\",\"Unknown\",\"Unknown\",\"Unknown\",\"Unknown\",\"Unknown\",\"Unknown\",\"Unknown\",\"Unknown\",\"Unknown\",\"Unknown\",\"Unknown\",\"Unknown\",\"Unknown\",\"GES Achieved\",\"Unknown\",\"GES Achieved\",\"Unknown\"],[\"GES Not Achieved\",\"Unknown\",\"GES Not Achieved\",\"Unknown\",\"GES Not Achieved\",\"GES Not Achieved\",\"Unknown\",\"Unknown\",\"Unknown\",\"Unknown\",\"GES Not Achieved\",\"GES Achieved\",\"GES Not Achieved\",\"GES Achieved\",\"GES Not Achieved\",\"GES Achieved\",\"Unknown\",\"GES Not Achieved\",\"GES Achieved\",\"GES Not Achieved\",\"Unknown\",\"GES Achieved\",\"GES Achieved\",\"GES Achieved\",\"GES Not Achieved\",\"Unknown\",\"GES Achieved\",\"Unknown\",\"GES Not Achieved\",\"GES Not Achieved\",\"Unknown\",\"GES Not Achieved\",\"GES Not Achieved\",\"GES Not Achieved\",\"GES Not Achieved\",\"Unknown\",\"Unknown\",\"GES Achieved\",\"GES Achieved\",\"Unknown\",\"Unknown\",\"Unknown\",\"GES Not Achieved\",\"Unknown\",\"Unknown\",\"GES Not Achieved\",\"Unknown\",\"Unknown\",\"GES Not Achieved\",\"GES Not Achieved\",\"GES Achieved\",\"Unknown\",\"GES Not Achieved\",\"GES Not Achieved\",\"Unknown\",\"Unknown\"],[\" \",\" \",\"GES Not Achieved\",\" \",\" \",\" \",\" \",\" \",\" \",\" \",\" \",\" \",\" \",\" \",\" \",\" \",\" \",\" \",\" \",\" \",\" \",\" \",\" \",\" \",\" \",\" \",\" \",\" \",\" \",\" \",\" \",\" \",\" \",\" \",\" \",\"Unknown\",\" \",\" \",\" \",\" \",\" \",\" \",\"GES Achieved\",\" \",\" \",\" \",\" \",\" \",\" \",\"GES Achieved\",\" \",\" \",\" \",\" \",\" \",\" \"],[\" \",\" \",\"GES Not Achieved\",\" \",\" \",\" \",\" \",\" \",\" \",\" \",\" \",\" \",\" \",\" \",\" \",\" \",\" \",\" \",\" \",\" \",\" \",\" \",\" \",\" \",\" \",\" \",\" \",\" \",\" \",\" \",\" \",\" \",\" \",\" \",\" \",\"GES Achieved\",\" \",\" \",\" \",\" \",\" \",\" \",\"GES Not Achieved\",\" \",\" \",\" \",\" \",\" \",\" \",\"GES Achieved\",\" \",\" \",\" \",\" \",\" \",\" \"],[\"GES Not Achieved\",\"Unknown\",\"GES Not Achieved\",\"Unknown\",\"GES Not Achieved\",\"GES Not Achieved\",\"Unknown\",\"Unknown\",\"Unknown\",\"Unknown\",\"GES Not Achieved\",\"GES Achieved\",\"GES Not Achieved\",\"GES Achieved\",\"GES Not Achieved\",\"GES Achieved\",\"Unknown\",\"GES Not Achieved\",\"GES Achieved\",\"Endangered with extinction, ineligible for GES\",\"Unknown\",\"GES Achieved\",\"GES Achieved\",\"GES Achieved\",\"GES Not Achieved\",\"Unknown\",\"GES Achieved\",\"Unknown\",\"GES Not Achieved\",\"GES Not Achieved\",\"Unknown\",\"GES Not Achieved\",\"GES Not Achieved\",\"GES Not Achieved\",\"Endangered with extinction, ineligible for GES\",\"GES Achieved\",\"Unknown\",\"GES Achieved\",\"GES Achieved\",\"Unknown\",\"Unknown\",\"Unknown\",\"GES Not Achieved\",\"Unknown\",\"Unknown\",\"GES Not Achieved\",\"Unknown\",\"Unknown\",\"Endangered with extinction, ineligible for GES\",\"GES Not Achieved\",\"GES Achieved\",\"Unknown\",\"GES Not Achieved\",\"Endangered with extinction, ineligible for GES\",\"Unknown\",\"Unknown\"]],\"texttemplate\":\"%{text}\"}],                        {\"template\":{\"data\":{\"bar\":[{\"error_x\":{\"color\":\"#2a3f5f\"},\"error_y\":{\"color\":\"#2a3f5f\"},\"marker\":{\"line\":{\"color\":\"#E5ECF6\",\"width\":0.5},\"pattern\":{\"fillmode\":\"overlay\",\"size\":10,\"solidity\":0.2}},\"type\":\"bar\"}],\"barpolar\":[{\"marker\":{\"line\":{\"color\":\"#E5ECF6\",\"width\":0.5},\"pattern\":{\"fillmode\":\"overlay\",\"size\":10,\"solidity\":0.2}},\"type\":\"barpolar\"}],\"carpet\":[{\"aaxis\":{\"endlinecolor\":\"#2a3f5f\",\"gridcolor\":\"white\",\"linecolor\":\"white\",\"minorgridcolor\":\"white\",\"startlinecolor\":\"#2a3f5f\"},\"baxis\":{\"endlinecolor\":\"#2a3f5f\",\"gridcolor\":\"white\",\"linecolor\":\"white\",\"minorgridcolor\":\"white\",\"startlinecolor\":\"#2a3f5f\"},\"type\":\"carpet\"}],\"choropleth\":[{\"colorbar\":{\"outlinewidth\":0,\"ticks\":\"\"},\"type\":\"choropleth\"}],\"contour\":[{\"colorbar\":{\"outlinewidth\":0,\"ticks\":\"\"},\"colorscale\":[[0.0,\"#0d0887\"],[0.1111111111111111,\"#46039f\"],[0.2222222222222222,\"#7201a8\"],[0.3333333333333333,\"#9c179e\"],[0.4444444444444444,\"#bd3786\"],[0.5555555555555556,\"#d8576b\"],[0.6666666666666666,\"#ed7953\"],[0.7777777777777778,\"#fb9f3a\"],[0.8888888888888888,\"#fdca26\"],[1.0,\"#f0f921\"]],\"type\":\"contour\"}],\"contourcarpet\":[{\"colorbar\":{\"outlinewidth\":0,\"ticks\":\"\"},\"type\":\"contourcarpet\"}],\"heatmap\":[{\"colorbar\":{\"outlinewidth\":0,\"ticks\":\"\"},\"colorscale\":[[0.0,\"#0d0887\"],[0.1111111111111111,\"#46039f\"],[0.2222222222222222,\"#7201a8\"],[0.3333333333333333,\"#9c179e\"],[0.4444444444444444,\"#bd3786\"],[0.5555555555555556,\"#d8576b\"],[0.6666666666666666,\"#ed7953\"],[0.7777777777777778,\"#fb9f3a\"],[0.8888888888888888,\"#fdca26\"],[1.0,\"#f0f921\"]],\"type\":\"heatmap\"}],\"heatmapgl\":[{\"colorbar\":{\"outlinewidth\":0,\"ticks\":\"\"},\"colorscale\":[[0.0,\"#0d0887\"],[0.1111111111111111,\"#46039f\"],[0.2222222222222222,\"#7201a8\"],[0.3333333333333333,\"#9c179e\"],[0.4444444444444444,\"#bd3786\"],[0.5555555555555556,\"#d8576b\"],[0.6666666666666666,\"#ed7953\"],[0.7777777777777778,\"#fb9f3a\"],[0.8888888888888888,\"#fdca26\"],[1.0,\"#f0f921\"]],\"type\":\"heatmapgl\"}],\"histogram\":[{\"marker\":{\"pattern\":{\"fillmode\":\"overlay\",\"size\":10,\"solidity\":0.2}},\"type\":\"histogram\"}],\"histogram2d\":[{\"colorbar\":{\"outlinewidth\":0,\"ticks\":\"\"},\"colorscale\":[[0.0,\"#0d0887\"],[0.1111111111111111,\"#46039f\"],[0.2222222222222222,\"#7201a8\"],[0.3333333333333333,\"#9c179e\"],[0.4444444444444444,\"#bd3786\"],[0.5555555555555556,\"#d8576b\"],[0.6666666666666666,\"#ed7953\"],[0.7777777777777778,\"#fb9f3a\"],[0.8888888888888888,\"#fdca26\"],[1.0,\"#f0f921\"]],\"type\":\"histogram2d\"}],\"histogram2dcontour\":[{\"colorbar\":{\"outlinewidth\":0,\"ticks\":\"\"},\"colorscale\":[[0.0,\"#0d0887\"],[0.1111111111111111,\"#46039f\"],[0.2222222222222222,\"#7201a8\"],[0.3333333333333333,\"#9c179e\"],[0.4444444444444444,\"#bd3786\"],[0.5555555555555556,\"#d8576b\"],[0.6666666666666666,\"#ed7953\"],[0.7777777777777778,\"#fb9f3a\"],[0.8888888888888888,\"#fdca26\"],[1.0,\"#f0f921\"]],\"type\":\"histogram2dcontour\"}],\"mesh3d\":[{\"colorbar\":{\"outlinewidth\":0,\"ticks\":\"\"},\"type\":\"mesh3d\"}],\"parcoords\":[{\"line\":{\"colorbar\":{\"outlinewidth\":0,\"ticks\":\"\"}},\"type\":\"parcoords\"}],\"pie\":[{\"automargin\":true,\"type\":\"pie\"}],\"scatter\":[{\"marker\":{\"colorbar\":{\"outlinewidth\":0,\"ticks\":\"\"}},\"type\":\"scatter\"}],\"scatter3d\":[{\"line\":{\"colorbar\":{\"outlinewidth\":0,\"ticks\":\"\"}},\"marker\":{\"colorbar\":{\"outlinewidth\":0,\"ticks\":\"\"}},\"type\":\"scatter3d\"}],\"scattercarpet\":[{\"marker\":{\"colorbar\":{\"outlinewidth\":0,\"ticks\":\"\"}},\"type\":\"scattercarpet\"}],\"scattergeo\":[{\"marker\":{\"colorbar\":{\"outlinewidth\":0,\"ticks\":\"\"}},\"type\":\"scattergeo\"}],\"scattergl\":[{\"marker\":{\"colorbar\":{\"outlinewidth\":0,\"ticks\":\"\"}},\"type\":\"scattergl\"}],\"scattermapbox\":[{\"marker\":{\"colorbar\":{\"outlinewidth\":0,\"ticks\":\"\"}},\"type\":\"scattermapbox\"}],\"scatterpolar\":[{\"marker\":{\"colorbar\":{\"outlinewidth\":0,\"ticks\":\"\"}},\"type\":\"scatterpolar\"}],\"scatterpolargl\":[{\"marker\":{\"colorbar\":{\"outlinewidth\":0,\"ticks\":\"\"}},\"type\":\"scatterpolargl\"}],\"scatterternary\":[{\"marker\":{\"colorbar\":{\"outlinewidth\":0,\"ticks\":\"\"}},\"type\":\"scatterternary\"}],\"surface\":[{\"colorbar\":{\"outlinewidth\":0,\"ticks\":\"\"},\"colorscale\":[[0.0,\"#0d0887\"],[0.1111111111111111,\"#46039f\"],[0.2222222222222222,\"#7201a8\"],[0.3333333333333333,\"#9c179e\"],[0.4444444444444444,\"#bd3786\"],[0.5555555555555556,\"#d8576b\"],[0.6666666666666666,\"#ed7953\"],[0.7777777777777778,\"#fb9f3a\"],[0.8888888888888888,\"#fdca26\"],[1.0,\"#f0f921\"]],\"type\":\"surface\"}],\"table\":[{\"cells\":{\"fill\":{\"color\":\"#EBF0F8\"},\"line\":{\"color\":\"white\"}},\"header\":{\"fill\":{\"color\":\"#C8D4E3\"},\"line\":{\"color\":\"white\"}},\"type\":\"table\"}]},\"layout\":{\"annotationdefaults\":{\"arrowcolor\":\"#2a3f5f\",\"arrowhead\":0,\"arrowwidth\":1},\"autotypenumbers\":\"strict\",\"coloraxis\":{\"colorbar\":{\"outlinewidth\":0,\"ticks\":\"\"}},\"colorscale\":{\"diverging\":[[0,\"#8e0152\"],[0.1,\"#c51b7d\"],[0.2,\"#de77ae\"],[0.3,\"#f1b6da\"],[0.4,\"#fde0ef\"],[0.5,\"#f7f7f7\"],[0.6,\"#e6f5d0\"],[0.7,\"#b8e186\"],[0.8,\"#7fbc41\"],[0.9,\"#4d9221\"],[1,\"#276419\"]],\"sequential\":[[0.0,\"#0d0887\"],[0.1111111111111111,\"#46039f\"],[0.2222222222222222,\"#7201a8\"],[0.3333333333333333,\"#9c179e\"],[0.4444444444444444,\"#bd3786\"],[0.5555555555555556,\"#d8576b\"],[0.6666666666666666,\"#ed7953\"],[0.7777777777777778,\"#fb9f3a\"],[0.8888888888888888,\"#fdca26\"],[1.0,\"#f0f921\"]],\"sequentialminus\":[[0.0,\"#0d0887\"],[0.1111111111111111,\"#46039f\"],[0.2222222222222222,\"#7201a8\"],[0.3333333333333333,\"#9c179e\"],[0.4444444444444444,\"#bd3786\"],[0.5555555555555556,\"#d8576b\"],[0.6666666666666666,\"#ed7953\"],[0.7777777777777778,\"#fb9f3a\"],[0.8888888888888888,\"#fdca26\"],[1.0,\"#f0f921\"]]},\"colorway\":[\"#636efa\",\"#EF553B\",\"#00cc96\",\"#ab63fa\",\"#FFA15A\",\"#19d3f3\",\"#FF6692\",\"#B6E880\",\"#FF97FF\",\"#FECB52\"],\"font\":{\"color\":\"#2a3f5f\"},\"geo\":{\"bgcolor\":\"white\",\"lakecolor\":\"white\",\"landcolor\":\"#E5ECF6\",\"showlakes\":true,\"showland\":true,\"subunitcolor\":\"white\"},\"hoverlabel\":{\"align\":\"left\"},\"hovermode\":\"closest\",\"mapbox\":{\"style\":\"light\"},\"paper_bgcolor\":\"white\",\"plot_bgcolor\":\"#E5ECF6\",\"polar\":{\"angularaxis\":{\"gridcolor\":\"white\",\"linecolor\":\"white\",\"ticks\":\"\"},\"bgcolor\":\"#E5ECF6\",\"radialaxis\":{\"gridcolor\":\"white\",\"linecolor\":\"white\",\"ticks\":\"\"}},\"scene\":{\"xaxis\":{\"backgroundcolor\":\"#E5ECF6\",\"gridcolor\":\"white\",\"gridwidth\":2,\"linecolor\":\"white\",\"showbackground\":true,\"ticks\":\"\",\"zerolinecolor\":\"white\"},\"yaxis\":{\"backgroundcolor\":\"#E5ECF6\",\"gridcolor\":\"white\",\"gridwidth\":2,\"linecolor\":\"white\",\"showbackground\":true,\"ticks\":\"\",\"zerolinecolor\":\"white\"},\"zaxis\":{\"backgroundcolor\":\"#E5ECF6\",\"gridcolor\":\"white\",\"gridwidth\":2,\"linecolor\":\"white\",\"showbackground\":true,\"ticks\":\"\",\"zerolinecolor\":\"white\"}},\"shapedefaults\":{\"line\":{\"color\":\"#2a3f5f\"}},\"ternary\":{\"aaxis\":{\"gridcolor\":\"white\",\"linecolor\":\"white\",\"ticks\":\"\"},\"baxis\":{\"gridcolor\":\"white\",\"linecolor\":\"white\",\"ticks\":\"\"},\"bgcolor\":\"#E5ECF6\",\"caxis\":{\"gridcolor\":\"white\",\"linecolor\":\"white\",\"ticks\":\"\"}},\"title\":{\"x\":0.05},\"xaxis\":{\"automargin\":true,\"gridcolor\":\"white\",\"linecolor\":\"white\",\"ticks\":\"\",\"title\":{\"standoff\":15},\"zerolinecolor\":\"white\",\"zerolinewidth\":2},\"yaxis\":{\"automargin\":true,\"gridcolor\":\"white\",\"linecolor\":\"white\",\"ticks\":\"\",\"title\":{\"standoff\":15},\"zerolinecolor\":\"white\",\"zerolinewidth\":2}}},\"xaxis\":{\"anchor\":\"y\",\"domain\":[0.0,1.0],\"scaleanchor\":\"y\",\"constrain\":\"domain\",\"side\":\"bottom\"},\"yaxis\":{\"anchor\":\"x\",\"domain\":[0.0,1.0],\"autorange\":\"reversed\",\"constrain\":\"domain\"},\"coloraxis\":{\"colorscale\":[[0.0,\"#ffffff\"],[0.1,\"#F0A622\"],[0.3,\"#f2f2f2\"],[0.5,\"#e34732\"],[1,\"#31F08E\"]],\"showscale\":false},\"title\":{\"text\":\"D1C1 GES status by Species\"},\"hovermode\":\"x unified\"},                        {\"responsive\": true}                    ).then(function(){\n",
       "                            \n",
       "var gd = document.getElementById('d430accf-2732-44fe-b7db-aad5cffb6cc9');\n",
       "var x = new MutationObserver(function (mutations, observer) {{\n",
       "        var display = window.getComputedStyle(gd).display;\n",
       "        if (!display || display === 'none') {{\n",
       "            console.log([gd, 'removed!']);\n",
       "            Plotly.purge(gd);\n",
       "            observer.disconnect();\n",
       "        }}\n",
       "}});\n",
       "\n",
       "// Listen for the removal of the full notebook cells\n",
       "var notebookContainer = gd.closest('#notebook-container');\n",
       "if (notebookContainer) {{\n",
       "    x.observe(notebookContainer, {childList: true});\n",
       "}}\n",
       "\n",
       "// Listen for the clearing of the current output cell\n",
       "var outputEl = gd.closest('.output');\n",
       "if (outputEl) {{\n",
       "    x.observe(outputEl, {childList: true});\n",
       "}}\n",
       "\n",
       "                        })                };                });            </script>        </div>"
      ]
     },
     "metadata": {},
     "output_type": "display_data"
    }
   ],
   "source": [
    "import pandas as pd\n",
    "import plotly.express as px\n",
    "\n",
    "D1C1 = pd.read_csv (r'C:\\Users\\marrigan\\Work\\Jupyter_Notebooks\\MSFD_Pie\\data\\D1_GES_Species2.csv')\n",
    "\n",
    "x = D1C1['Common_Name']\n",
    "y = ['GES','D1C5','D1C4','D1C2','D1C1']\n",
    "\n",
    "z = [D1C1['GES_Colour'],D1C1['D1C5_Colour'],D1C1['D1C4_Colour'],D1C1['D1C2_Colour'],D1C1['D1C1_Colour']]\n",
    "\n",
    "z_text = [D1C1['D1C1'],D1C1['D1C2'],D1C1['D1C4'],D1C1['D1C5'],D1C1['GES']]\n",
    "\n",
    "colorscale=[[0.0, '#ffffff'], [.1, '#F0A622'], [.3, '#f2f2f2'], [.5, '#e34732'],[1, '#31F08E']]\n",
    "\n",
    "fig = px.imshow(z, x=x, y=y, color_continuous_scale=colorscale, aspect='equal', title=\"D1C1 GES status by Species\")\n",
    "fig.update_traces(text=z_text, texttemplate=\"%{text}\")\n",
    "fig.update_coloraxes(showscale=False)\n",
    "fig.update_xaxes(side=\"bottom\")\n",
    "fig.update_layout(hovermode='x unified')\n",
    "fig.show()"
   ]
  },
  {
   "cell_type": "code",
   "execution_count": 34,
   "id": "942c9876",
   "metadata": {},
   "outputs": [
    {
     "ename": "AttributeError",
     "evalue": "'Figure' object has no attribute 'add_text'",
     "output_type": "error",
     "traceback": [
      "\u001b[1;31m---------------------------------------------------------------------------\u001b[0m",
      "\u001b[1;31mAttributeError\u001b[0m                            Traceback (most recent call last)",
      "\u001b[1;32m<ipython-input-34-659d1cba0bfa>\u001b[0m in \u001b[0;36m<module>\u001b[1;34m\u001b[0m\n\u001b[0;32m     54\u001b[0m \u001b[0mfig\u001b[0m\u001b[1;33m.\u001b[0m\u001b[0mupdate_coloraxes\u001b[0m\u001b[1;33m(\u001b[0m\u001b[0mshowscale\u001b[0m\u001b[1;33m=\u001b[0m\u001b[1;32mFalse\u001b[0m\u001b[1;33m)\u001b[0m\u001b[1;33m\u001b[0m\u001b[1;33m\u001b[0m\u001b[0m\n\u001b[0;32m     55\u001b[0m \u001b[1;33m\u001b[0m\u001b[0m\n\u001b[1;32m---> 56\u001b[1;33m \u001b[0mfig\u001b[0m\u001b[1;33m.\u001b[0m\u001b[0madd_text\u001b[0m\u001b[1;33m(\u001b[0m\u001b[1;36m5.6\u001b[0m\u001b[1;33m,\u001b[0m\u001b[1;36m6.0\u001b[0m\u001b[1;33m,\u001b[0m \u001b[1;34m'GES Achieved'\u001b[0m\u001b[1;33m,\u001b[0m \u001b[0mfontsize\u001b[0m\u001b[1;33m=\u001b[0m\u001b[1;36m16\u001b[0m\u001b[1;33m,\u001b[0m\u001b[0mfontweight\u001b[0m\u001b[1;33m=\u001b[0m\u001b[1;34m'bold'\u001b[0m\u001b[1;33m,\u001b[0m\u001b[0mbackgroundcolor\u001b[0m\u001b[1;33m=\u001b[0m\u001b[0mges_a\u001b[0m\u001b[1;33m)\u001b[0m\u001b[1;33m\u001b[0m\u001b[1;33m\u001b[0m\u001b[0m\n\u001b[0m\u001b[0;32m     57\u001b[0m \u001b[0mfig\u001b[0m\u001b[1;33m.\u001b[0m\u001b[0madd_text\u001b[0m\u001b[1;33m(\u001b[0m\u001b[1;36m5.6\u001b[0m\u001b[1;33m,\u001b[0m\u001b[1;36m5.6\u001b[0m\u001b[1;33m,\u001b[0m \u001b[1;34m'GES Partially Achieved'\u001b[0m\u001b[1;33m,\u001b[0m \u001b[0mfontsize\u001b[0m\u001b[1;33m=\u001b[0m\u001b[1;36m16\u001b[0m\u001b[1;33m,\u001b[0m\u001b[0mfontweight\u001b[0m\u001b[1;33m=\u001b[0m\u001b[1;34m'bold'\u001b[0m\u001b[1;33m,\u001b[0m\u001b[0mbackgroundcolor\u001b[0m\u001b[1;33m=\u001b[0m\u001b[0mges_pa\u001b[0m\u001b[1;33m)\u001b[0m\u001b[1;33m\u001b[0m\u001b[1;33m\u001b[0m\u001b[0m\n\u001b[0;32m     58\u001b[0m \u001b[0mfig\u001b[0m\u001b[1;33m.\u001b[0m\u001b[0madd_text\u001b[0m\u001b[1;33m(\u001b[0m\u001b[1;36m5.6\u001b[0m\u001b[1;33m,\u001b[0m\u001b[1;36m5.2\u001b[0m\u001b[1;33m,\u001b[0m \u001b[1;34m'GES Not Achieved'\u001b[0m\u001b[1;33m,\u001b[0m \u001b[0mfontsize\u001b[0m\u001b[1;33m=\u001b[0m\u001b[1;36m16\u001b[0m\u001b[1;33m,\u001b[0m\u001b[0mfontweight\u001b[0m\u001b[1;33m=\u001b[0m\u001b[1;34m'bold'\u001b[0m\u001b[1;33m,\u001b[0m\u001b[0mbackgroundcolor\u001b[0m\u001b[1;33m=\u001b[0m\u001b[0mges_na\u001b[0m\u001b[1;33m)\u001b[0m\u001b[1;33m\u001b[0m\u001b[1;33m\u001b[0m\u001b[0m\n",
      "\u001b[1;31mAttributeError\u001b[0m: 'Figure' object has no attribute 'add_text'"
     ]
    }
   ],
   "source": [
    "#Periodic Table plot\n",
    "D1C1 = pd.read_csv (r'C:\\Users\\marrigan\\Work\\Jupyter_Notebooks\\MSFD_Pie\\data\\D1_GES_Species2.csv')\n",
    "\n",
    "symbol = [D1C1['GES'],\n",
    "         D1C1['D1C5'],\n",
    "         D1C1['D1C4'],\n",
    "         D1C1['D1C2'],\n",
    "         D1C1['D1C1']]\n",
    "\n",
    "element = [D1C1['GES'],\n",
    "         D1C1['D1C5'],\n",
    "         D1C1['D1C4'],\n",
    "         D1C1['D1C2'],\n",
    "         D1C1['D1C1']]\n",
    "\n",
    "# atomic_mass = [[ 1.00794, .0, .0, .0, .0, .0, .0, .0, .0, .0, .0, .0, .0, .0, .0, .0, .0,  4.002602],\n",
    "#      [ 6.941, 9.012182, .0, .0, .0, .0, .0, .0, .0, .0, .0, .0,  10.811, 12.0107, 14.0067, 15.9994, 18.9984032, 20.1797],\n",
    "#      [ 22.98976928, 24.3050, .0, .0, .0, .0, .0, .0, .0, .0, .0, .0,  26.9815386, 28.0855, 30.973762, 32.065, 35.453, 39.948],\n",
    "#      [ 39.0983, 40.078, 44.955912, 47.867, 50.9415, 51.9961, 54.938045, 55.845, 58.933195, 58.6934, 63.546, 65.38, 69.723, 72.64, 74.92160, 78.96, 79.904, 83.798],\n",
    "#      [ 85.4678, 87.62, 88.90585, 91.224, 92.90638, 95.96, 98, 101.07, 102.90550, 106.42, 107.8682, 112.411, 114.818, 118.710, 121.760, 127.60, 126.90447, 131.293],\n",
    "#      [ 132.9054519, 137.327, .0, 178.49, 180.94788, 183.84, 186.207, 190.23, 192.217, 195.084, 196.966569, 200.59, 204.3833, 207.2, 208.98040, 209, 210, 222],\n",
    "#      [223, 226, .0, 267, 268, 271, 272, 270, 276, 281, 280, 285, 284, 289, 288, 293, 'unknown', 294],\n",
    "#      [.0, .0, 138.90547, 140.116, 140.90765, 144.242, 145, 150.36, 151.964, 157.25, 158.92535, 162.500, 164.93032, 167.259, 168.93421, 173.054, 174.9668, .0],\n",
    "#      [.0, .0, 227, 232.03806, 231.03588, 238.02891, 237, 244, 243, 247, 247, 251, 252, 257, 258, 259, 262, .0],\n",
    "#      [.0, .0, .0, .0, .0, .0, .0, .0, .0, .0, .0, .0, .0, .0, .0, .0, .0, .0],\n",
    "#      [.0, .0, .0, .0, .0, .0, .0, .0, .0, .0, .0, .0, .0, .0, .0, .0, .0, .0],\n",
    "#      [.0, .0, .0, .0, .0, .0, .0, .0, .0, .0, .0, .0, .0, .0, .0, .0, .0, .0]]\n",
    "\n",
    "color = [D1C1['GES_Colour'],\n",
    "         D1C1['D1C5_Colour'],\n",
    "         D1C1['D1C4_Colour'],\n",
    "         D1C1['D1C2_Colour'],\n",
    "         D1C1['D1C1_Colour']]\n",
    "\n",
    "# Set Colorscale\n",
    "colorscale=[[0.0, '#ffffff'], [.3, '#f2f2f2'], [.5, '#e34732'],[1, '#31F08E']]\n",
    "\n",
    "# Display element name and atomic mass on hover\n",
    "# hover=[]\n",
    "# for x in range(len(symbol)):\n",
    "#     hover.append([i + '<br>' + 'Atomic Mass: ' + str(j) if i else ''\n",
    "#                       for i, j in zip(element[x], atomic_mass[x])])\n",
    "\n",
    "import plotly.express as px\n",
    "import numpy as np\n",
    "\n",
    "fig = px.imshow(color, color_continuous_scale=colorscale, aspect=\"auto\",\n",
    "               title='Periodic Table')\n",
    "fig.update_traces(\n",
    "    text=symbol, texttemplate=\"%{text}\", textfont_size=12,\n",
    "    customdata=np.moveaxis([element], 0,-1))\n",
    "fig.update_xaxes(visible=False)\n",
    "fig.update_yaxes(visible=False)\n",
    "fig.update_coloraxes(showscale=False)\n",
    "\n",
    "fig.add_text(5.6,6.0, 'GES Achieved', fontsize=16,fontweight='bold',backgroundcolor=ges_a)\n",
    "fig.add_text(5.6,5.6, 'GES Partially Achieved', fontsize=16,fontweight='bold',backgroundcolor=ges_pa)\n",
    "fig.add_text(5.6,5.2, 'GES Not Achieved', fontsize=16,fontweight='bold',backgroundcolor=ges_na)\n",
    "fig.add_text(5.6,4.8, 'Unknown', fontsize=16,fontweight='bold',backgroundcolor=ges_u)\n",
    "fig.add_text(5.6,4.4, 'No Target For GES Set', fontsize=16,fontweight='bold',backgroundcolor=ges_nt)\n",
    "\n",
    "fig.show()"
   ]
  },
  {
   "cell_type": "code",
   "execution_count": null,
   "id": "28298826",
   "metadata": {},
   "outputs": [],
   "source": []
  }
 ],
 "metadata": {
  "kernelspec": {
   "display_name": "Python 3",
   "language": "python",
   "name": "python3"
  },
  "language_info": {
   "codemirror_mode": {
    "name": "ipython",
    "version": 3
   },
   "file_extension": ".py",
   "mimetype": "text/x-python",
   "name": "python",
   "nbconvert_exporter": "python",
   "pygments_lexer": "ipython3",
   "version": "3.8.8"
  }
 },
 "nbformat": 4,
 "nbformat_minor": 5
}
